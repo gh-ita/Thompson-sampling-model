{
  "nbformat": 4,
  "nbformat_minor": 0,
  "metadata": {
    "colab": {
      "provenance": [],
      "authorship_tag": "ABX9TyO98NYTUI+loZlPTgooiWkA",
      "include_colab_link": true
    },
    "kernelspec": {
      "name": "python3",
      "display_name": "Python 3"
    },
    "language_info": {
      "name": "python"
    }
  },
  "cells": [
    {
      "cell_type": "markdown",
      "metadata": {
        "id": "view-in-github",
        "colab_type": "text"
      },
      "source": [
        "<a href=\"https://colab.research.google.com/github/gh-ita/Thompson-sampling-model/blob/main/Untitled4.ipynb\" target=\"_parent\"><img src=\"https://colab.research.google.com/assets/colab-badge.svg\" alt=\"Open In Colab\"/></a>"
      ]
    },
    {
      "cell_type": "code",
      "execution_count": 3,
      "metadata": {
        "id": "u69sA81whvO7"
      },
      "outputs": [],
      "source": [
        "import numpy as np\n",
        "import random as rd"
      ]
    },
    {
      "cell_type": "markdown",
      "source": [],
      "metadata": {
        "id": "dbwd61Myi81N"
      }
    },
    {
      "cell_type": "code",
      "source": [
        "# We set the chance of winning of each slot machine\n",
        "winningChance = [0.14, 0.04, 0.05, 0.11, 0.13]\n",
        "trial = 1000\n",
        "nMachine = len(winningChance)\n"
      ],
      "metadata": {
        "id": "VuGZAHcfjHKN"
      },
      "execution_count": 2,
      "outputs": []
    },
    {
      "cell_type": "code",
      "source": [
        "# For each sample we determine the result with each slot machine\n",
        "\"\"\" the logic here is that each slot machine has a percentage of the player winning each percentage\n",
        "is the number of trials from 100 in which he can win so if the player gets a smaller number the percentage\n",
        "is one of the winning trials of the slot machine\n",
        "\"\"\"\n",
        "result = np.zeros((trial, nMachine))\n",
        "for i in range(trial):\n",
        "  for j in range(nMachine):\n",
        "    chance = rd.random()\n",
        "    if chance < winningChance[j] :\n",
        "      result[i][j] = 1"
      ],
      "metadata": {
        "id": "xb1eCxDXlAPP"
      },
      "execution_count": 4,
      "outputs": []
    },
    {
      "cell_type": "code",
      "source": [
        "# Number of wins and losses for each slot\n",
        "slotWins = np.zeros(nMachine)\n",
        "slotLoss = np.zeros(nMachine)\n",
        "\"\"\"for i in range(nMachine):\n",
        "  loss = 0\n",
        "  win = 0\n",
        "  for j in range(trial):\n",
        "    if result[j][i] == 0:\n",
        "      loss += 1\n",
        "    else :\n",
        "      win += 1\n",
        "  slotWins[i] = win\n",
        "  slotLoss[i] = loss\"\"\"\n"
      ],
      "metadata": {
        "colab": {
          "base_uri": "https://localhost:8080/",
          "height": 52
        },
        "id": "ZBBKzzW2o9Jz",
        "outputId": "48b6b108-cebd-4ceb-f650-4c4e56cfe924"
      },
      "execution_count": 26,
      "outputs": [
        {
          "output_type": "execute_result",
          "data": {
            "text/plain": [
              "'for i in range(nMachine):\\n  loss = 0\\n  win = 0\\n  for j in range(trial):\\n    if result[j][i] == 0:\\n      loss += 1\\n    else :\\n      win += 1\\n  slotWins[i] = win\\n  slotLoss[i] = loss'"
            ],
            "application/vnd.google.colaboratory.intrinsic+json": {
              "type": "string"
            }
          },
          "metadata": {},
          "execution_count": 26
        }
      ]
    },
    {
      "cell_type": "code",
      "source": [
        "\"\"\"Here we choose the best slot machine at each trial using beta by giving it the losses and wins\n",
        "made with each slot machine, we then check if the machine chosen has actually made a win\n",
        "if not we increase its number of losses and vice versa, the point here is increase the accuracy\n",
        "of beta by making it choose the best slot machine based on the results\"\"\"\n",
        "for i in range(trial):\n",
        "  selected = 0\n",
        "  maxRandom = 0\n",
        "  for j in range(nMachine):\n",
        "    maxBeta = np.random.beta(slotWins[j]+1, slotLoss[j]+1)\n",
        "    if maxBeta > maxRandom :\n",
        "      maxRandom = maxBeta\n",
        "      selected = j\n",
        "  if result[i][selected] == 1 :\n",
        "    slotWins[selected] += 1\n",
        "  else :\n",
        "    slotLoss[selected] += 1\n",
        "\n",
        "slotNSelection = slotWins + slotLoss\n",
        "for i in range(nMachine):\n",
        "  print(\"The slot machine \",i+1,\" was chosen \",slotNSelection[i])\n",
        "print(\"The best slot machine is \",np.argmax(slotNSelection)+1)\n"
      ],
      "metadata": {
        "colab": {
          "base_uri": "https://localhost:8080/"
        },
        "id": "uKGH9ddnr3Pe",
        "outputId": "659018f5-dc34-4414-945e-dddad338f708"
      },
      "execution_count": 27,
      "outputs": [
        {
          "output_type": "stream",
          "name": "stdout",
          "text": [
            "The slot machine  1  was chosen  614.0\n",
            "The slot machine  2  was chosen  60.0\n",
            "The slot machine  3  was chosen  38.0\n",
            "The slot machine  4  was chosen  141.0\n",
            "The slot machine  5  was chosen  147.0\n",
            "The best slot machine is  1\n"
          ]
        }
      ]
    },
    {
      "cell_type": "markdown",
      "source": [
        "\n",
        "\n",
        "```\n",
        "Here we can see that the algorithm converged after 400 trials.\n",
        "```\n",
        "\n"
      ],
      "metadata": {
        "id": "PQtzyAGs7G5t"
      }
    },
    {
      "cell_type": "code",
      "source": [],
      "metadata": {
        "id": "aubX7u1k7bS6"
      },
      "execution_count": null,
      "outputs": []
    }
  ]
}
